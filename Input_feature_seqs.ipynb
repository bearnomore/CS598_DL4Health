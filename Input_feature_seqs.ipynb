{
 "cells": [
  {
   "cell_type": "code",
   "execution_count": 1,
   "id": "25a561cd",
   "metadata": {},
   "outputs": [],
   "source": [
    "import numpy as np\n",
    "import pickle\n",
    "from sklearn import linear_model\n",
    "from sklearn.metrics import roc_auc_score, classification_report, roc_curve"
   ]
  },
  {
   "cell_type": "code",
   "execution_count": 2,
   "id": "417a47be",
   "metadata": {},
   "outputs": [],
   "source": [
    "input_path = \"E:/CS_Master_Degree_UIUC/CS598_DeepLearning_for_Health_Data/Project/paper290/Processed_data/\"\n",
    "output_path = \"E:/CS_Master_Degree_UIUC/CS598_DeepLearning_for_Health_Data/Project/paper290/Processed_data/\""
   ]
  },
  {
   "cell_type": "code",
   "execution_count": 3,
   "id": "4809dd2e",
   "metadata": {},
   "outputs": [],
   "source": [
    "vocabsize_icd = 4780\n",
    "vocabsize_meds = 3202\n",
    "vocabsize_labs = 545\n",
    "vocabsize = vocabsize_icd+vocabsize_meds+vocabsize_labs"
   ]
  },
  {
   "cell_type": "code",
   "execution_count": 4,
   "id": "37affc62",
   "metadata": {},
   "outputs": [
    {
     "data": {
      "text/plain": [
       "[['4239', '5119', '78551', '4589', '311', '7220', '71946', '2724'],\n",
       " ['7455', '45829', 'V1259', '2724']]"
      ]
     },
     "execution_count": 4,
     "metadata": {},
     "output_type": "execute_result"
    }
   ],
   "source": [
    "picklefile = \"ICD_seq.pkl\"\n",
    "with open(input_path + picklefile, \"rb\") as pkl_rb_obj:\n",
    "    ICD_seqs = pickle.load(pkl_rb_obj)\n",
    "    \n",
    "picklefile = \"ICD_codes_all.pkl\"\n",
    "with open(input_path + picklefile, \"rb\") as pkl_rb_obj:\n",
    "    ICDs_all = pickle.load(pkl_rb_obj)\n",
    "    \n",
    "ICD_seqs[0] #First patent and all ICD codes of all visits of this patient"
   ]
  },
  {
   "cell_type": "code",
   "execution_count": 5,
   "id": "f6b73f37",
   "metadata": {},
   "outputs": [
    {
     "data": {
      "text/plain": [
       "['Glycopyrrolate',\n",
       " 'Neostigmine',\n",
       " 'Calcium Gluconate',\n",
       " 'Magnesium Sulfate',\n",
       " 'Meperidine',\n",
       " 'Oxycodone-Acetaminophen',\n",
       " 'Sucralfate',\n",
       " 'Acetaminophen',\n",
       " 'Acetaminophen',\n",
       " 'Aspirin EC']"
      ]
     },
     "execution_count": 5,
     "metadata": {},
     "output_type": "execute_result"
    }
   ],
   "source": [
    "picklefile = \"Med_seq.pkl\"\n",
    "with open(input_path + picklefile, \"rb\") as pkl_rb_obj:\n",
    "    Med_seqs = pickle.load(pkl_rb_obj)\n",
    "    \n",
    "picklefile = \"Meds_all.pkl\"\n",
    "with open(input_path + picklefile, \"rb\") as pkl_rb_obj:\n",
    "    Meds_all = pickle.load(pkl_rb_obj)\n",
    "\n",
    "Med_seqs[0][0][0:10] #First patient, first visit and the first 10 prescribed medication"
   ]
  },
  {
   "cell_type": "code",
   "execution_count": 6,
   "id": "3f77389d",
   "metadata": {},
   "outputs": [
    {
     "data": {
      "text/plain": [
       "['pH',\n",
       " 'pH',\n",
       " 'pH',\n",
       " 'pH',\n",
       " 'pH',\n",
       " 'pH',\n",
       " 'SPECIMEN TYPE',\n",
       " 'SPECIMEN TYPE',\n",
       " 'SPECIMEN TYPE',\n",
       " 'SPECIMEN TYPE']"
      ]
     },
     "execution_count": 6,
     "metadata": {},
     "output_type": "execute_result"
    }
   ],
   "source": [
    "picklefile = \"Lab_seq.pkl\"\n",
    "with open(input_path + picklefile, \"rb\") as pkl_rb_obj:\n",
    "    Lab_seqs = pickle.load(pkl_rb_obj)\n",
    "\n",
    "picklefile = \"labs_all.pkl\"\n",
    "with open(input_path + picklefile, \"rb\") as pkl_rb_obj:\n",
    "    labs_all = pickle.load(pkl_rb_obj)\n",
    "    \n",
    "Lab_seqs[0][0][0:10] #First patient, first visit and the first 10 lab results"
   ]
  },
  {
   "cell_type": "code",
   "execution_count": 7,
   "id": "88a98148",
   "metadata": {},
   "outputs": [
    {
     "data": {
      "text/plain": [
       "[0, 1, 0, 0, 0, 1, 1, 0, 1, 0]"
      ]
     },
     "execution_count": 7,
     "metadata": {},
     "output_type": "execute_result"
    }
   ],
   "source": [
    "picklefile = \"mort_lables.pkl\"\n",
    "with open(input_path + picklefile, \"rb\") as pkl_rb_obj:\n",
    "    mort_seqs = pickle.load(pkl_rb_obj)\n",
    "    \n",
    "mort_seqs[0:10]"
   ]
  },
  {
   "cell_type": "code",
   "execution_count": 8,
   "id": "276e28dc",
   "metadata": {},
   "outputs": [],
   "source": [
    "# fout = open(\"logistic_regression_interpretations.txt\", 'w')\n",
    "# For each patient \n",
    "def combine_encounter(seqs, vocab):\n",
    "    vocab_size = len(vocab)\n",
    "    enc_size = len(seqs)\n",
    "    ret_vector = np.zeros((enc_size, vocab_size))\n",
    "    for i, enc in enumerate(seqs):\n",
    "        for code in enc:\n",
    "            if code != -1:\n",
    "                j = vocab.index(code)\n",
    "                ret_vector[i,j] = 1\n",
    "    ret_vector = ret_vector.mean(axis = 0)\n",
    "    return ret_vector"
   ]
  },
  {
   "cell_type": "code",
   "execution_count": 9,
   "id": "53e9c8ba",
   "metadata": {},
   "outputs": [],
   "source": [
    "num_patient =  len(ICD_seqs)\n",
    "\n",
    "icd_features = np.zeros((num_patient, len(ICDs_all)))\n",
    "med_features = np.zeros((num_patient, len(Meds_all)))\n",
    "lab_features = np.zeros((num_patient, len(labs_all)))\n",
    "                        \n",
    "for i in range(num_patient):\n",
    "    icd_features[i] = combine_encounter(ICD_seqs[i], ICDs_all)\n",
    "    med_features[i] = combine_encounter(Med_seqs[i], Meds_all)\n",
    "    lab_features[i] = combine_encounter(Lab_seqs[i], labs_all)\n",
    "    \n",
    "input_seqs = np.concatenate((icd_features,med_features,lab_features),axis = 1)    \n",
    "# input_seqs = np.array([np.concatenate((combine_encounter(ICD_seqs[i], ICDs_all), combine_encounter(Med_seqs[i], Meds_all), combine_encounter(Lab_seqs[i], labs_all)), axis=0) for i in range(num_patient)])"
   ]
  },
  {
   "cell_type": "code",
   "execution_count": 10,
   "id": "fac40dc1",
   "metadata": {},
   "outputs": [],
   "source": [
    "np.save(output_path+'icd_inputs.npy',icd_features)\n",
    "np.save(output_path+'med_inputs.npy',med_features)\n",
    "np.save(output_path+'lab_inputs.npy',lab_features)\n",
    "np.save(output_path+'input_seqs.npy',input_seqs)"
   ]
  }
 ],
 "metadata": {
  "kernelspec": {
   "display_name": "Python 3",
   "language": "python",
   "name": "python3"
  },
  "language_info": {
   "codemirror_mode": {
    "name": "ipython",
    "version": 3
   },
   "file_extension": ".py",
   "mimetype": "text/x-python",
   "name": "python",
   "nbconvert_exporter": "python",
   "pygments_lexer": "ipython3",
   "version": "3.8.8"
  }
 },
 "nbformat": 4,
 "nbformat_minor": 5
}

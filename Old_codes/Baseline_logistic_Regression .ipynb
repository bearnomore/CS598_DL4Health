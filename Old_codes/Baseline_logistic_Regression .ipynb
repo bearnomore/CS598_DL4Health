{
 "cells": [
  {
   "cell_type": "code",
   "execution_count": 1,
   "id": "dcce8916",
   "metadata": {},
   "outputs": [],
   "source": [
    "import numpy as np\n",
    "import pickle\n",
    "from sklearn import linear_model\n",
    "from sklearn.metrics import roc_auc_score, classification_report, roc_curve\n",
    "import time"
   ]
  },
  {
   "cell_type": "code",
   "execution_count": 2,
   "id": "0f58ac34",
   "metadata": {},
   "outputs": [],
   "source": [
    "input_path = \"E:/CS_Master_Degree_UIUC/CS598_DeepLearning_for_Health_Data/Project/paper290/Processed_data/\""
   ]
  },
  {
   "cell_type": "code",
   "execution_count": 3,
   "id": "ca917aa8",
   "metadata": {},
   "outputs": [],
   "source": [
    "picklefile = \"mort_labels.pkl\"\n",
    "with open(input_path + picklefile, \"rb\") as pkl_rb_obj:\n",
    "    mort_labels = pickle.load(pkl_rb_obj)\n",
    "\n",
    "mort_labels = np.array(mort_labels)"
   ]
  },
  {
   "cell_type": "code",
   "execution_count": 4,
   "id": "831ddaa2",
   "metadata": {},
   "outputs": [],
   "source": [
    "icds = np.load(input_path + 'icd_inputs.npy')\n",
    "meds = np.load(input_path + 'med_inputs.npy')\n",
    "labs = np.load(input_path + 'lab_inputs.npy')\n",
    "input_seqs = np.load(input_path + 'input_seqs.npy')"
   ]
  },
  {
   "cell_type": "code",
   "execution_count": 5,
   "id": "773e7b88",
   "metadata": {},
   "outputs": [],
   "source": [
    "trainratio = 0.7\n",
    "validratio = 0.1\n",
    "testratio = 0.2\n",
    "\n",
    "trainlindex = int(len(icds)*trainratio)\n",
    "validlindex = int(len(icds)*(trainratio + validratio))"
   ]
  },
  {
   "cell_type": "code",
   "execution_count": 6,
   "id": "06f2dcd2",
   "metadata": {},
   "outputs": [],
   "source": [
    "def Train(input_data, labels, run = 10):\n",
    "    \n",
    "    test_aucrocs = []\n",
    "    \n",
    "    for run in range(10):\n",
    "        \n",
    "        # Randomize the data at each run\n",
    "        perm = np.random.permutation(input_data.shape[0])\n",
    "        rinput_seqs = input_data[perm]\n",
    "        rlabels = labels[perm]\n",
    "        \n",
    "        # Get training seqs and labels\n",
    "        train_input_seqs = rinput_seqs[:trainlindex]\n",
    "        train_labels = rlabels[:trainlindex]\n",
    "\n",
    "        # Get validate seqs and labels\n",
    "        valid_input_seqs = rinput_seqs[trainlindex:validlindex]\n",
    "        valid_labels = rlabels[trainlindex:validlindex]\n",
    "\n",
    "        # Get test seqs and labels\n",
    "        test_input_seqs = rinput_seqs[validlindex:]\n",
    "        test_labels = rlabels[validlindex:]\n",
    "\n",
    "        # Create and fit mode, make sure solver = 'liblinear', or error about string decoding will pop up\n",
    "        model = linear_model.LogisticRegression(solver='liblinear')\n",
    "        model.fit(train_input_seqs, train_labels)\n",
    "\n",
    "        # Print AUC_ROC score of validation\n",
    "        vpredict_probabilities = np.array([a[1] for a in model.predict_proba(valid_input_seqs)])\n",
    "        print(\"Validation AUC_ROC: \", roc_auc_score(valid_labels, vpredict_probabilities))\n",
    "        \n",
    "        # Print AUC_ROC score of testing\n",
    "        predict_probabilities = np.array([a[1] for a in model.predict_proba(test_input_seqs)])\n",
    "        print(\"Test AUC_ROC: \", roc_auc_score(test_labels, predict_probabilities))\n",
    "\n",
    "        # Pool all testing AUC_ROC scores \n",
    "        test_aucrocs.append(roc_auc_score(test_labels, predict_probabilities))\n",
    "        \n",
    "    mean_aucrocs = np.mean(test_aucrocs)\n",
    "    sd_aucrocs = np.std(test_aucrocs)\n",
    "    \n",
    "    return mean_aucrocs, sd_aucrocs"
   ]
  },
  {
   "cell_type": "markdown",
   "id": "a0abcb2e",
   "metadata": {},
   "source": [
    "## Use only ICD features as input"
   ]
  },
  {
   "cell_type": "code",
   "execution_count": 7,
   "id": "787ac8af",
   "metadata": {},
   "outputs": [
    {
     "name": "stdout",
     "output_type": "stream",
     "text": [
      "Validation AUC_ROC:  0.7994297814951082\n",
      "Test AUC_ROC:  0.8057867481459168\n",
      "Validation AUC_ROC:  0.8373653581386739\n",
      "Test AUC_ROC:  0.8091457507209805\n",
      "Validation AUC_ROC:  0.8044823232323233\n",
      "Test AUC_ROC:  0.8118268724293672\n",
      "Validation AUC_ROC:  0.8407695602512849\n",
      "Test AUC_ROC:  0.8052989141436634\n",
      "Validation AUC_ROC:  0.7988751271465326\n",
      "Test AUC_ROC:  0.8106102424297044\n",
      "Validation AUC_ROC:  0.8033180454107921\n",
      "Test AUC_ROC:  0.8161446273904468\n",
      "Validation AUC_ROC:  0.8261306770457476\n",
      "Test AUC_ROC:  0.8093678237593354\n",
      "Validation AUC_ROC:  0.8183671735621443\n",
      "Test AUC_ROC:  0.8058741699257198\n",
      "Validation AUC_ROC:  0.8179298846431144\n",
      "Test AUC_ROC:  0.8348529416077446\n",
      "Validation AUC_ROC:  0.8300915389672787\n",
      "Test AUC_ROC:  0.8303880672481354\n",
      "execution time is: 5.694762229919434 seconds\n",
      "Average AUCROC: 0.81 +/- 0.0099\n"
     ]
    }
   ],
   "source": [
    "input_data = icds\n",
    "labels = mort_labels\n",
    "run = 10\n",
    "start = time.time()\n",
    "mean_aucrocs, sd_aucrocs = Train(input_data, labels, run = run)\n",
    "end = time.time()\n",
    "print(\"execution time is:\", (end-start), 'seconds')\n",
    "print(\"Average AUCROC:\", np.round(mean_aucrocs,2), \"+/-\",np.round(sd_aucrocs,4))"
   ]
  },
  {
   "cell_type": "markdown",
   "id": "df357d23",
   "metadata": {},
   "source": [
    "## Use only medication as input"
   ]
  },
  {
   "cell_type": "code",
   "execution_count": 8,
   "id": "e9f8762b",
   "metadata": {},
   "outputs": [
    {
     "name": "stdout",
     "output_type": "stream",
     "text": [
      "Validation AUC_ROC:  0.8224567828100597\n",
      "Test AUC_ROC:  0.8541607809900493\n",
      "Validation AUC_ROC:  0.848560606060606\n",
      "Test AUC_ROC:  0.8377430125477947\n",
      "Validation AUC_ROC:  0.8418997726598793\n",
      "Test AUC_ROC:  0.8369654575611163\n",
      "Validation AUC_ROC:  0.8191008043364224\n",
      "Test AUC_ROC:  0.8460680902152475\n",
      "Validation AUC_ROC:  0.8543529411764706\n",
      "Test AUC_ROC:  0.863259769777843\n",
      "Validation AUC_ROC:  0.8588045234248789\n",
      "Test AUC_ROC:  0.8487959956709956\n",
      "Validation AUC_ROC:  0.8392055016768976\n",
      "Test AUC_ROC:  0.8631845388332011\n",
      "Validation AUC_ROC:  0.8588583920330337\n",
      "Test AUC_ROC:  0.8353310813265047\n",
      "Validation AUC_ROC:  0.870845522509345\n",
      "Test AUC_ROC:  0.8432899338473855\n",
      "Validation AUC_ROC:  0.8742123097152683\n",
      "Test AUC_ROC:  0.8332588362959901\n",
      "execution time is: 4.629408597946167 seconds\n",
      "Average AUCROC: 0.85 +/- 0.0105\n"
     ]
    }
   ],
   "source": [
    "input_data = meds\n",
    "labels = mort_labels\n",
    "run = 10\n",
    "start = time.time()\n",
    "mean_aucrocs, sd_aucrocs = Train(input_data, labels, run = run)\n",
    "end = time.time()\n",
    "print(\"execution time is:\", (end-start), 'seconds')\n",
    "print(\"Average AUCROC:\", np.round(mean_aucrocs,2), \"+/-\",np.round(sd_aucrocs,4))"
   ]
  },
  {
   "cell_type": "markdown",
   "id": "d40a5f31",
   "metadata": {},
   "source": [
    "## Use only Lab as input"
   ]
  },
  {
   "cell_type": "code",
   "execution_count": 9,
   "id": "9352f94c",
   "metadata": {},
   "outputs": [
    {
     "name": "stdout",
     "output_type": "stream",
     "text": [
      "Validation AUC_ROC:  0.7457558944267648\n",
      "Test AUC_ROC:  0.7818894739822208\n",
      "Validation AUC_ROC:  0.7619480519480519\n",
      "Test AUC_ROC:  0.7604059471743417\n",
      "Validation AUC_ROC:  0.7624323303537706\n",
      "Test AUC_ROC:  0.7660894113681372\n",
      "Validation AUC_ROC:  0.7794251699559597\n",
      "Test AUC_ROC:  0.7430526788180061\n",
      "Validation AUC_ROC:  0.8016289653929345\n",
      "Test AUC_ROC:  0.759095804836017\n",
      "Validation AUC_ROC:  0.7440293799567412\n",
      "Test AUC_ROC:  0.7660854236980223\n",
      "Validation AUC_ROC:  0.7177849498895872\n",
      "Test AUC_ROC:  0.76924825094357\n",
      "Validation AUC_ROC:  0.8085714285714285\n",
      "Test AUC_ROC:  0.7534555438460259\n",
      "Validation AUC_ROC:  0.7575813609467457\n",
      "Test AUC_ROC:  0.7652422142846896\n",
      "Validation AUC_ROC:  0.7913122415358234\n",
      "Test AUC_ROC:  0.7518914717102223\n",
      "execution time is: 3.134287118911743 seconds\n",
      "Average AUCROC: 0.76 +/- 0.0102\n"
     ]
    }
   ],
   "source": [
    "input_data = labs\n",
    "labels = mort_labels\n",
    "run = 10\n",
    "start = time.time()\n",
    "mean_aucrocs, sd_aucrocs = Train(input_data, labels, run = run)\n",
    "end = time.time()\n",
    "print(\"execution time is:\", (end-start), 'seconds')\n",
    "print(\"Average AUCROC:\", np.round(mean_aucrocs,2), \"+/-\",np.round(sd_aucrocs,4))"
   ]
  },
  {
   "cell_type": "markdown",
   "id": "f3372f95",
   "metadata": {},
   "source": [
    "## Use all concatenated features"
   ]
  },
  {
   "cell_type": "code",
   "execution_count": 10,
   "id": "0a27737f",
   "metadata": {},
   "outputs": [
    {
     "name": "stdout",
     "output_type": "stream",
     "text": [
      "Validation AUC_ROC:  0.8771328831033245\n",
      "Test AUC_ROC:  0.8694127624729483\n",
      "Validation AUC_ROC:  0.8720394919296689\n",
      "Test AUC_ROC:  0.8826226175904879\n",
      "Validation AUC_ROC:  0.8873814410117035\n",
      "Test AUC_ROC:  0.8921826175925669\n",
      "Validation AUC_ROC:  0.8690332242498198\n",
      "Test AUC_ROC:  0.866251957619185\n",
      "Validation AUC_ROC:  0.8972536348949918\n",
      "Test AUC_ROC:  0.8957080573013986\n",
      "Validation AUC_ROC:  0.8943002408348942\n",
      "Test AUC_ROC:  0.8838156856978626\n",
      "Validation AUC_ROC:  0.8555234697921975\n",
      "Test AUC_ROC:  0.8811284374991355\n",
      "Validation AUC_ROC:  0.8818811562183559\n",
      "Test AUC_ROC:  0.8782874788659577\n",
      "Validation AUC_ROC:  0.871513813603777\n",
      "Test AUC_ROC:  0.896750558880796\n",
      "Validation AUC_ROC:  0.8855834993806881\n",
      "Test AUC_ROC:  0.8749060321097712\n",
      "execution time is: 12.864949464797974 seconds\n",
      "Average AUCROC: 0.88 +/- 0.0099\n"
     ]
    }
   ],
   "source": [
    "input_data = input_seqs\n",
    "labels = mort_labels\n",
    "run = 10\n",
    "start = time.time()\n",
    "mean_aucrocs, sd_aucrocs = Train(input_data, labels, run = run)\n",
    "end = time.time()\n",
    "print(\"execution time is:\", (end-start), 'seconds')\n",
    "print(\"Average AUCROC:\", np.round(mean_aucrocs,2), \"+/-\",np.round(sd_aucrocs,4))"
   ]
  },
  {
   "cell_type": "code",
   "execution_count": null,
   "id": "4c7864c5",
   "metadata": {},
   "outputs": [],
   "source": []
  }
 ],
 "metadata": {
  "kernelspec": {
   "display_name": "Python 3 (ipykernel)",
   "language": "python",
   "name": "python3"
  },
  "language_info": {
   "codemirror_mode": {
    "name": "ipython",
    "version": 3
   },
   "file_extension": ".py",
   "mimetype": "text/x-python",
   "name": "python",
   "nbconvert_exporter": "python",
   "pygments_lexer": "ipython3",
   "version": "3.8.12"
  }
 },
 "nbformat": 4,
 "nbformat_minor": 5
}
